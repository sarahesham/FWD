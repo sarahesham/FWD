{
 "cells": [
  {
   "cell_type": "markdown",
   "metadata": {},
   "source": [
    "# Project: Investigate a Dataset (no-show appointments)\n",
    "\n",
    "## Table of Contents\n",
    "<ul>\n",
    "<li><a href=\"#intro\">Introduction</a></li>\n",
    "<li><a href=\"#wrangling\">Data Wrangling</a></li>\n",
    "<li><a href=\"#eda\">Exploratory Data Analysis</a></li>\n",
    "<li><a href=\"#conclusions\">Conclusions</a></li>\n",
    "</ul>"
   ]
  },
  {
   "cell_type": "markdown",
   "metadata": {},
   "source": [
    "<a id='intro'></a>\n",
    "## Introduction\n",
    "\n",
    "> A person makes a doctor appointment, receives all the instructions and no-show. Who to blame?\n",
    "> This notebook try to study the resons behind this problem.\n",
    ">"
   ]
  },
  {
   "cell_type": "markdown",
   "metadata": {},
   "source": [
    "## Data description\n",
    "> This dataset collects information\n",
    "from 100k medical appointments in\n",
    "Brazil and is focused on the question\n",
    "of whether or not patients show up\n",
    "for their appointment. A number of\n",
    "characteristics about the patient are\n",
    "included in each row\n",
    ">\n",
    "## Questions\n",
    "\n",
    "> 1. What is the percentage of no show up to show up?!\n",
    ">\n",
    "> 2. What is the Value counts for each categorical column?!\n",
    ">\n",
    "> 3. What is the distribution of numerical columns?!\n",
    ">\n",
    "\n",
    "> 4. What is the % of (Gender, Age, Neighbourhood, Scholarship, Hipertension, Diabetes,  Alcoholism, Handcap, SMS_received) which did not showed up?!\n",
    "`(the relationship between each column and the  no show up status)`\n",
    ">\n",
    "\n",
    "> 5. For each showed up status, what is average period between the appointment and the schedule day?!\n",
    ">\n",
    "\n",
    "> 6. What factors are important for us to know in order to predict if a patient will show up for their scheduled appointment? `(The majority features combination which did not show up)`\n",
    "\n",
    "\n"
   ]
  },
  {
   "cell_type": "code",
   "execution_count": 1,
   "metadata": {},
   "outputs": [],
   "source": [
    "# Import the packages\n",
    "import pandas as pd\n",
    "import numpy as np\n",
    "import matplotlib.pyplot as plt\n",
    "import seaborn as sns; \n",
    "sns.set_theme()"
   ]
  },
  {
   "cell_type": "markdown",
   "metadata": {},
   "source": [
    "<a id='wrangling'></a>\n",
    "## Data Wrangling\n",
    "\n",
    "> * Data reading\n",
    "> * Data cleaning\n",
    "> * Data preprocessing"
   ]
  },
  {
   "cell_type": "markdown",
   "metadata": {},
   "source": [
    "### Data reading"
   ]
  },
  {
   "cell_type": "code",
   "execution_count": 2,
   "metadata": {},
   "outputs": [
    {
     "data": {
      "text/html": [
       "<div>\n",
       "<style scoped>\n",
       "    .dataframe tbody tr th:only-of-type {\n",
       "        vertical-align: middle;\n",
       "    }\n",
       "\n",
       "    .dataframe tbody tr th {\n",
       "        vertical-align: top;\n",
       "    }\n",
       "\n",
       "    .dataframe thead th {\n",
       "        text-align: right;\n",
       "    }\n",
       "</style>\n",
       "<table border=\"1\" class=\"dataframe\">\n",
       "  <thead>\n",
       "    <tr style=\"text-align: right;\">\n",
       "      <th></th>\n",
       "      <th>PatientId</th>\n",
       "      <th>AppointmentID</th>\n",
       "      <th>Gender</th>\n",
       "      <th>ScheduledDay</th>\n",
       "      <th>AppointmentDay</th>\n",
       "      <th>Age</th>\n",
       "      <th>Neighbourhood</th>\n",
       "      <th>Scholarship</th>\n",
       "      <th>Hipertension</th>\n",
       "      <th>Diabetes</th>\n",
       "      <th>Alcoholism</th>\n",
       "      <th>Handcap</th>\n",
       "      <th>SMS_received</th>\n",
       "      <th>No-show</th>\n",
       "    </tr>\n",
       "  </thead>\n",
       "  <tbody>\n",
       "    <tr>\n",
       "      <th>0</th>\n",
       "      <td>2.987250e+13</td>\n",
       "      <td>5642903</td>\n",
       "      <td>F</td>\n",
       "      <td>2016-04-29T18:38:08Z</td>\n",
       "      <td>2016-04-29T00:00:00Z</td>\n",
       "      <td>62</td>\n",
       "      <td>JARDIM DA PENHA</td>\n",
       "      <td>0</td>\n",
       "      <td>1</td>\n",
       "      <td>0</td>\n",
       "      <td>0</td>\n",
       "      <td>0</td>\n",
       "      <td>0</td>\n",
       "      <td>No</td>\n",
       "    </tr>\n",
       "    <tr>\n",
       "      <th>1</th>\n",
       "      <td>5.589978e+14</td>\n",
       "      <td>5642503</td>\n",
       "      <td>M</td>\n",
       "      <td>2016-04-29T16:08:27Z</td>\n",
       "      <td>2016-04-29T00:00:00Z</td>\n",
       "      <td>56</td>\n",
       "      <td>JARDIM DA PENHA</td>\n",
       "      <td>0</td>\n",
       "      <td>0</td>\n",
       "      <td>0</td>\n",
       "      <td>0</td>\n",
       "      <td>0</td>\n",
       "      <td>0</td>\n",
       "      <td>No</td>\n",
       "    </tr>\n",
       "    <tr>\n",
       "      <th>2</th>\n",
       "      <td>4.262962e+12</td>\n",
       "      <td>5642549</td>\n",
       "      <td>F</td>\n",
       "      <td>2016-04-29T16:19:04Z</td>\n",
       "      <td>2016-04-29T00:00:00Z</td>\n",
       "      <td>62</td>\n",
       "      <td>MATA DA PRAIA</td>\n",
       "      <td>0</td>\n",
       "      <td>0</td>\n",
       "      <td>0</td>\n",
       "      <td>0</td>\n",
       "      <td>0</td>\n",
       "      <td>0</td>\n",
       "      <td>No</td>\n",
       "    </tr>\n",
       "    <tr>\n",
       "      <th>3</th>\n",
       "      <td>8.679512e+11</td>\n",
       "      <td>5642828</td>\n",
       "      <td>F</td>\n",
       "      <td>2016-04-29T17:29:31Z</td>\n",
       "      <td>2016-04-29T00:00:00Z</td>\n",
       "      <td>8</td>\n",
       "      <td>PONTAL DE CAMBURI</td>\n",
       "      <td>0</td>\n",
       "      <td>0</td>\n",
       "      <td>0</td>\n",
       "      <td>0</td>\n",
       "      <td>0</td>\n",
       "      <td>0</td>\n",
       "      <td>No</td>\n",
       "    </tr>\n",
       "    <tr>\n",
       "      <th>4</th>\n",
       "      <td>8.841186e+12</td>\n",
       "      <td>5642494</td>\n",
       "      <td>F</td>\n",
       "      <td>2016-04-29T16:07:23Z</td>\n",
       "      <td>2016-04-29T00:00:00Z</td>\n",
       "      <td>56</td>\n",
       "      <td>JARDIM DA PENHA</td>\n",
       "      <td>0</td>\n",
       "      <td>1</td>\n",
       "      <td>1</td>\n",
       "      <td>0</td>\n",
       "      <td>0</td>\n",
       "      <td>0</td>\n",
       "      <td>No</td>\n",
       "    </tr>\n",
       "  </tbody>\n",
       "</table>\n",
       "</div>"
      ],
      "text/plain": [
       "      PatientId  AppointmentID Gender          ScheduledDay  \\\n",
       "0  2.987250e+13        5642903      F  2016-04-29T18:38:08Z   \n",
       "1  5.589978e+14        5642503      M  2016-04-29T16:08:27Z   \n",
       "2  4.262962e+12        5642549      F  2016-04-29T16:19:04Z   \n",
       "3  8.679512e+11        5642828      F  2016-04-29T17:29:31Z   \n",
       "4  8.841186e+12        5642494      F  2016-04-29T16:07:23Z   \n",
       "\n",
       "         AppointmentDay  Age      Neighbourhood  Scholarship  Hipertension  \\\n",
       "0  2016-04-29T00:00:00Z   62    JARDIM DA PENHA            0             1   \n",
       "1  2016-04-29T00:00:00Z   56    JARDIM DA PENHA            0             0   \n",
       "2  2016-04-29T00:00:00Z   62      MATA DA PRAIA            0             0   \n",
       "3  2016-04-29T00:00:00Z    8  PONTAL DE CAMBURI            0             0   \n",
       "4  2016-04-29T00:00:00Z   56    JARDIM DA PENHA            0             1   \n",
       "\n",
       "   Diabetes  Alcoholism  Handcap  SMS_received No-show  \n",
       "0         0           0        0             0      No  \n",
       "1         0           0        0             0      No  \n",
       "2         0           0        0             0      No  \n",
       "3         0           0        0             0      No  \n",
       "4         1           0        0             0      No  "
      ]
     },
     "execution_count": 2,
     "metadata": {},
     "output_type": "execute_result"
    }
   ],
   "source": [
    "# Read the data\n",
    "df = pd.read_csv('noshowappointments-kagglev2-may-2016.csv')\n",
    "# Print the first 5 rows\n",
    "df.head()"
   ]
  },
  {
   "cell_type": "code",
   "execution_count": 3,
   "metadata": {},
   "outputs": [],
   "source": [
    "# Select the columns to calculate the correlation between them\n",
    "columns = list(df.columns)\n",
    "\n",
    "# Remove the insignificant columns\n",
    "columns.remove('PatientId')\n",
    "columns.remove('AppointmentID')"
   ]
  },
  {
   "cell_type": "code",
   "execution_count": 4,
   "metadata": {},
   "outputs": [
    {
     "data": {
      "image/png": "[encoded data removed]",
      "text/plain": [
       "<Figure size 432x288 with 2 Axes>"
      ]
     },
     "metadata": {},
     "output_type": "display_data"
    }
   ],
   "source": [
    "# Draw the heatmap of the correlation between the data frame columns\n",
    "corr = df[columns].corr()\n",
    "sns.heatmap(corr);\n",
    "plt.title('Heatmap of the correlation between the data frame columns', fontdict = {'fontsize': 20});\n",
    "plt.show()"
   ]
  },
  {
   "cell_type": "code",
   "execution_count": 5,
   "metadata": {},
   "outputs": [],
   "source": [
    "# # Specify the predictors\n",
    "# sns.pairplot(data = df,x_vars=columns, y_vars=columns, hue = 'No-show', diag_kind = 'hist')"
   ]
  },
  {
   "cell_type": "code",
   "execution_count": 6,
   "metadata": {},
   "outputs": [
    {
     "data": {
      "text/plain": [
       "(110527, 14)"
      ]
     },
     "execution_count": 6,
     "metadata": {},
     "output_type": "execute_result"
    }
   ],
   "source": [
    "# Explore the shape of the data\n",
    "df.shape"
   ]
  },
  {
   "cell_type": "code",
   "execution_count": 7,
   "metadata": {},
   "outputs": [
    {
     "name": "stdout",
     "output_type": "stream",
     "text": [
      "<class 'pandas.core.frame.DataFrame'>\n",
      "RangeIndex: 110527 entries, 0 to 110526\n",
      "Data columns (total 14 columns):\n",
      " #   Column          Non-Null Count   Dtype  \n",
      "---  ------          --------------   -----  \n",
      " 0   PatientId       110527 non-null  float64\n",
      " 1   AppointmentID   110527 non-null  int64  \n",
      " 2   Gender          110527 non-null  object \n",
      " 3   ScheduledDay    110527 non-null  object \n",
      " 4   AppointmentDay  110527 non-null  object \n",
      " 5   Age             110527 non-null  int64  \n",
      " 6   Neighbourhood   110527 non-null  object \n",
      " 7   Scholarship     110527 non-null  int64  \n",
      " 8   Hipertension    110527 non-null  int64  \n",
      " 9   Diabetes        110527 non-null  int64  \n",
      " 10  Alcoholism      110527 non-null  int64  \n",
      " 11  Handcap         110527 non-null  int64  \n",
      " 12  SMS_received    110527 non-null  int64  \n",
      " 13  No-show         110527 non-null  object \n",
      "dtypes: float64(1), int64(8), object(5)\n",
      "memory usage: 11.8+ MB\n"
     ]
    }
   ],
   "source": [
    "# Explore the columns data types\n",
    "df.info()"
   ]
  },
  {
   "cell_type": "markdown",
   "metadata": {},
   "source": [
    "### Data Cleaning\n",
    "\n",
    "Here, we will investigate our dataset by answering the following questions:\n",
    "> 1. Are the columns data types correct?\n",
    ">\n",
    "> 2. Are there any insignificant columns to drop?'\n",
    ">\n",
    "> 3. Is it have a missing values?\n",
    ">\n",
    "> 4. Is it contains duplicates?\n",
    ">\n",
    "> 5. Are the values of numerical columns correct?!\n",
    ">\n",
    "> Are there any column which need to be renamed?!\n",
    "\n",
    "Then we will deal with the dataset if any of these problems exist"
   ]
  },
  {
   "cell_type": "markdown",
   "metadata": {},
   "source": [
    "### As we see from the data types of the columns, some of them need to be converted.\n",
    "\n",
    "a) Conversion from `string` to `date time` format:\n",
    "> 1. ScheduledDay column\n",
    ">\n",
    "> 2. AppointmentDay column\n",
    "\n",
    "b) Conversion from `int` to `string` format:\n",
    "> 1. Scholarship column\n",
    ">\n",
    "> 2. Hipertension column\n",
    ">\n",
    "> 3. Diabetes column\n",
    ">\n",
    "> 4. Alcoholism column\n",
    ">\n",
    "> 5. Handcap column\n",
    ">\n",
    "> 6. SMS_received column"
   ]
  },
  {
   "cell_type": "code",
   "execution_count": 8,
   "metadata": {},
   "outputs": [],
   "source": [
    "# Conversion from string to date time format\n",
    "df['ScheduledDay'] = pd.to_datetime(df['ScheduledDay'])\n",
    "df['AppointmentDay'] = pd.to_datetime(df['AppointmentDay'])"
   ]
  },
  {
   "cell_type": "code",
   "execution_count": 9,
   "metadata": {},
   "outputs": [],
   "source": [
    "# Conversion from int to string format\n",
    "# 1. Create a dictionary to replace the 0 with NO, and 1 with YES\n",
    "dict_map = {0: 'No', 1: 'Yes'}\n",
    "\n",
    "# 2. Apply the map function to convert the columns data type\n",
    "df['Scholarship'] = df['Scholarship'].map(dict_map)\n",
    "df['Hipertension'] = df['Hipertension'].map(dict_map)\n",
    "df['Diabetes'] = df['Diabetes'].map(dict_map)\n",
    "df['Alcoholism'] = df['Alcoholism'].map(dict_map)\n",
    "df['Handcap'] = df['Handcap'].map(dict_map)\n",
    "df['SMS_received'] = df['SMS_received'].map(dict_map)"
   ]
  },
  {
   "cell_type": "markdown",
   "metadata": {},
   "source": [
    "### There is no need for these columns:\n",
    "> 1. `PatientId` \n",
    "> 2. `AppointmentID` \n",
    "\n",
    "### so we will drop them"
   ]
  },
  {
   "cell_type": "code",
   "execution_count": 10,
   "metadata": {},
   "outputs": [],
   "source": [
    "df.drop(['PatientId', 'AppointmentID'], axis = 1, inplace = True)"
   ]
  },
  {
   "cell_type": "code",
   "execution_count": 11,
   "metadata": {},
   "outputs": [
    {
     "data": {
      "text/html": [
       "<div>\n",
       "<style scoped>\n",
       "    .dataframe tbody tr th:only-of-type {\n",
       "        vertical-align: middle;\n",
       "    }\n",
       "\n",
       "    .dataframe tbody tr th {\n",
       "        vertical-align: top;\n",
       "    }\n",
       "\n",
       "    .dataframe thead th {\n",
       "        text-align: right;\n",
       "    }\n",
       "</style>\n",
       "<table border=\"1\" class=\"dataframe\">\n",
       "  <thead>\n",
       "    <tr style=\"text-align: right;\">\n",
       "      <th></th>\n",
       "      <th>Gender</th>\n",
       "      <th>ScheduledDay</th>\n",
       "      <th>AppointmentDay</th>\n",
       "      <th>Age</th>\n",
       "      <th>Neighbourhood</th>\n",
       "      <th>Scholarship</th>\n",
       "      <th>Hipertension</th>\n",
       "      <th>Diabetes</th>\n",
       "      <th>Alcoholism</th>\n",
       "      <th>Handcap</th>\n",
       "      <th>SMS_received</th>\n",
       "      <th>No-show</th>\n",
       "    </tr>\n",
       "  </thead>\n",
       "  <tbody>\n",
       "    <tr>\n",
       "      <th>0</th>\n",
       "      <td>F</td>\n",
       "      <td>2016-04-29 18:38:08+00:00</td>\n",
       "      <td>2016-04-29 00:00:00+00:00</td>\n",
       "      <td>62</td>\n",
       "      <td>JARDIM DA PENHA</td>\n",
       "      <td>No</td>\n",
       "      <td>Yes</td>\n",
       "      <td>No</td>\n",
       "      <td>No</td>\n",
       "      <td>No</td>\n",
       "      <td>No</td>\n",
       "      <td>No</td>\n",
       "    </tr>\n",
       "    <tr>\n",
       "      <th>1</th>\n",
       "      <td>M</td>\n",
       "      <td>2016-04-29 16:08:27+00:00</td>\n",
       "      <td>2016-04-29 00:00:00+00:00</td>\n",
       "      <td>56</td>\n",
       "      <td>JARDIM DA PENHA</td>\n",
       "      <td>No</td>\n",
       "      <td>No</td>\n",
       "      <td>No</td>\n",
       "      <td>No</td>\n",
       "      <td>No</td>\n",
       "      <td>No</td>\n",
       "      <td>No</td>\n",
       "    </tr>\n",
       "  </tbody>\n",
       "</table>\n",
       "</div>"
      ],
      "text/plain": [
       "  Gender              ScheduledDay            AppointmentDay  Age  \\\n",
       "0      F 2016-04-29 18:38:08+00:00 2016-04-29 00:00:00+00:00   62   \n",
       "1      M 2016-04-29 16:08:27+00:00 2016-04-29 00:00:00+00:00   56   \n",
       "\n",
       "     Neighbourhood Scholarship Hipertension Diabetes Alcoholism Handcap  \\\n",
       "0  JARDIM DA PENHA          No          Yes       No         No      No   \n",
       "1  JARDIM DA PENHA          No           No       No         No      No   \n",
       "\n",
       "  SMS_received No-show  \n",
       "0           No      No  \n",
       "1           No      No  "
      ]
     },
     "execution_count": 11,
     "metadata": {},
     "output_type": "execute_result"
    }
   ],
   "source": [
    "# Check the previous updates\n",
    "df.head(2)"
   ]
  },
  {
   "cell_type": "code",
   "execution_count": 12,
   "metadata": {},
   "outputs": [
    {
     "name": "stdout",
     "output_type": "stream",
     "text": [
      "<class 'pandas.core.frame.DataFrame'>\n",
      "RangeIndex: 110527 entries, 0 to 110526\n",
      "Data columns (total 12 columns):\n",
      " #   Column          Non-Null Count   Dtype              \n",
      "---  ------          --------------   -----              \n",
      " 0   Gender          110527 non-null  object             \n",
      " 1   ScheduledDay    110527 non-null  datetime64[ns, UTC]\n",
      " 2   AppointmentDay  110527 non-null  datetime64[ns, UTC]\n",
      " 3   Age             110527 non-null  int64              \n",
      " 4   Neighbourhood   110527 non-null  object             \n",
      " 5   Scholarship     110527 non-null  object             \n",
      " 6   Hipertension    110527 non-null  object             \n",
      " 7   Diabetes        110527 non-null  object             \n",
      " 8   Alcoholism      110527 non-null  object             \n",
      " 9   Handcap         110328 non-null  object             \n",
      " 10  SMS_received    110527 non-null  object             \n",
      " 11  No-show         110527 non-null  object             \n",
      "dtypes: datetime64[ns, UTC](2), int64(1), object(9)\n",
      "memory usage: 10.1+ MB\n"
     ]
    }
   ],
   "source": [
    "# Check the data types of the columns\n",
    "df.info()"
   ]
  },
  {
   "cell_type": "markdown",
   "metadata": {},
   "source": [
    "### Investigating missing values and duplicates"
   ]
  },
  {
   "cell_type": "code",
   "execution_count": 13,
   "metadata": {},
   "outputs": [
    {
     "data": {
      "text/plain": [
       "Gender              0\n",
       "ScheduledDay        0\n",
       "AppointmentDay      0\n",
       "Age                 0\n",
       "Neighbourhood       0\n",
       "Scholarship         0\n",
       "Hipertension        0\n",
       "Diabetes            0\n",
       "Alcoholism          0\n",
       "Handcap           199\n",
       "SMS_received        0\n",
       "No-show             0\n",
       "dtype: int64"
      ]
     },
     "execution_count": 13,
     "metadata": {},
     "output_type": "execute_result"
    }
   ],
   "source": [
    "# Count the missing values in each column\n",
    "df.isnull().sum()"
   ]
  },
  {
   "cell_type": "markdown",
   "metadata": {},
   "source": [
    "### As we see, we have `199 null values` in the handcap column. so `we will remove them`.\n",
    "<font color = red>Note:</font> Removing the nulls in this case will not affect badly on the dataset `(we have about 110500 record)`."
   ]
  },
  {
   "cell_type": "code",
   "execution_count": 14,
   "metadata": {},
   "outputs": [],
   "source": [
    "# Drop the missing values\n",
    "df.dropna(inplace = True)"
   ]
  },
  {
   "cell_type": "code",
   "execution_count": 15,
   "metadata": {},
   "outputs": [
    {
     "data": {
      "text/plain": [
       "Gender            0\n",
       "ScheduledDay      0\n",
       "AppointmentDay    0\n",
       "Age               0\n",
       "Neighbourhood     0\n",
       "Scholarship       0\n",
       "Hipertension      0\n",
       "Diabetes          0\n",
       "Alcoholism        0\n",
       "Handcap           0\n",
       "SMS_received      0\n",
       "No-show           0\n",
       "dtype: int64"
      ]
     },
     "execution_count": 15,
     "metadata": {},
     "output_type": "execute_result"
    }
   ],
   "source": [
    "# Count the missing again in each column\n",
    "df.isnull().sum()"
   ]
  },
  {
   "cell_type": "code",
   "execution_count": 16,
   "metadata": {},
   "outputs": [
    {
     "data": {
      "text/plain": [
       "632"
      ]
     },
     "execution_count": 16,
     "metadata": {},
     "output_type": "execute_result"
    }
   ],
   "source": [
    "# Count the duplicates\n",
    "df.duplicated().sum()"
   ]
  },
  {
   "cell_type": "markdown",
   "metadata": {},
   "source": [
    "### As we see, we have `632 duplicates`. so `we will remove them`.\n",
    "\n",
    "<font color = red>Note:</font> Removing the duplicates in this case will not affect badly on the dataset `(we have about 110500 record)`. "
   ]
  },
  {
   "cell_type": "code",
   "execution_count": 17,
   "metadata": {},
   "outputs": [],
   "source": [
    "# Drop the duplicate values\n",
    "df.drop_duplicates(inplace = True)"
   ]
  },
  {
   "cell_type": "code",
   "execution_count": 18,
   "metadata": {},
   "outputs": [
    {
     "data": {
      "text/plain": [
       "0"
      ]
     },
     "execution_count": 18,
     "metadata": {},
     "output_type": "execute_result"
    }
   ],
   "source": [
    "# Count the duplicates again\n",
    "df.duplicated().sum()"
   ]
  },
  {
   "cell_type": "markdown",
   "metadata": {},
   "source": [
    "### Check the values of Age column"
   ]
  },
  {
   "cell_type": "code",
   "execution_count": 19,
   "metadata": {},
   "outputs": [
    {
     "name": "stdout",
     "output_type": "stream",
     "text": [
      "The min value is:  -1\n",
      "The max value is:  115\n"
     ]
    }
   ],
   "source": [
    "# Print the min and the max values of the age\n",
    "print(\"The min value is: \", df['Age'].min())\n",
    "print(\"The max value is: \", df['Age'].max())"
   ]
  },
  {
   "cell_type": "code",
   "execution_count": 20,
   "metadata": {},
   "outputs": [
    {
     "data": {
      "text/plain": [
       "Int64Index([99832], dtype='int64')"
      ]
     },
     "execution_count": 20,
     "metadata": {},
     "output_type": "execute_result"
    }
   ],
   "source": [
    "# Discover the rows with age == -1\n",
    "df.query('Age == -1').index"
   ]
  },
  {
   "cell_type": "code",
   "execution_count": 21,
   "metadata": {},
   "outputs": [],
   "source": [
    "# Drop the columns with age == -1\n",
    "df.drop(df.query('Age == -1').index, inplace = True)"
   ]
  },
  {
   "cell_type": "code",
   "execution_count": 22,
   "metadata": {},
   "outputs": [
    {
     "data": {
      "text/plain": [
       "Int64Index([], dtype='int64')"
      ]
     },
     "execution_count": 22,
     "metadata": {},
     "output_type": "execute_result"
    }
   ],
   "source": [
    "# Check the rows with age == -1\n",
    "df.query('Age == -1').index"
   ]
  },
  {
   "cell_type": "markdown",
   "metadata": {},
   "source": [
    "### Rename the no-show column"
   ]
  },
  {
   "cell_type": "code",
   "execution_count": 23,
   "metadata": {},
   "outputs": [],
   "source": [
    "# rename the No-show column so we can use it with the query function\n",
    "df.rename(columns= {'No-show': 'No_show'}, inplace = True)"
   ]
  },
  {
   "cell_type": "markdown",
   "metadata": {},
   "source": [
    "# <font color = yellow> Now, we can say that we have a clean dataset.  </font>"
   ]
  },
  {
   "cell_type": "markdown",
   "metadata": {},
   "source": [
    "# Needed functions"
   ]
  },
  {
   "cell_type": "code",
   "execution_count": 24,
   "metadata": {},
   "outputs": [],
   "source": [
    "def plot_df(df, col_list, kind='bar', messege=''):\n",
    "    '''\n",
    "        plot the value counts for a given list of columns in a data frame\n",
    "\n",
    "        Parameters:\n",
    "        df : The main data frame\n",
    "        col_list : Columns of interest\n",
    "        kind : The type of plot\n",
    "        messege : A messege to print \n",
    "        \n",
    "        Returns:\n",
    "        no return\n",
    "    '''\n",
    "    print(messege, end='\\n\\n')\n",
    "    # plot the value counts for the categorical columns\n",
    "    for col in col_list:\n",
    "        df[col].value_counts().plot(kind=kind, \n",
    "                                    title = col + \" value counts\",\n",
    "                                    xlabel = col , ylabel = 'Counts')  \n",
    "        plt.show()"
   ]
  },
  {
   "cell_type": "code",
   "execution_count": 25,
   "metadata": {},
   "outputs": [],
   "source": [
    "def plot_df_percent(df, col_list, n = 1, query = None, kind='bar', messege = ''):\n",
    "    '''\n",
    "        plot and print the value counts for a given list of columns in a data frame\n",
    "\n",
    "        Parameters:\n",
    "        df : The main data frame\n",
    "        col_list : Columns of interest\n",
    "        kind : The type of plot\n",
    "        messege : A messege to print \n",
    "        n : total number of observations\n",
    "        query : a \n",
    "        \n",
    "        Returns:\n",
    "        no return\n",
    "    '''\n",
    "       \n",
    "    # Calculate the percentage of each value in the columns\n",
    "    print(messege, end = '\\n\\n')\n",
    "    \n",
    "    if query:\n",
    "        for col in col_list:\n",
    "            no_show_df = df.query(query)[col].value_counts() / n\n",
    "            print(no_show_df, end = '\\n')\n",
    "            print('='*50, end = '\\n\\n')\n",
    "            no_show_df.plot(kind=kind, title = col + \" percentage\",\n",
    "                                        xlabel = col , ylabel = 'percent (%)')\n",
    "            plt.show()\n",
    "        \n",
    "    else:\n",
    "        for col in col_list:\n",
    "            percent = df[col].value_counts() / df.shape[0]\n",
    "            print(percent, end = '\\n')\n",
    "            print('='*50, end = '\\n\\n')\n",
    "            percent.plot(kind=kind, title = col + \" percentage\",\n",
    "                                        xlabel = col , ylabel = 'percent (%)')\n",
    "            plt.show()"
   ]
  },
  {
   "cell_type": "markdown",
   "metadata": {},
   "source": [
    "<a id='eda'></a>\n",
    "## Exploratory Data Analysis\n",
    "\n",
    "> In this section we will try to answere these questions:\n",
    "> 1. What is the percentage of no show up to show up?!\n",
    ">\n",
    "> 2. What is the Value counts for each categorical column?!\n",
    ">\n",
    "> 3. What is the distribution of numerical columns?!\n",
    ">\n",
    "\n",
    "> 4. What is the % of (Gender, Age, Neighbourhood, Scholarship, Hipertension, Diabetes,  Alcoholism, Handcap, SMS_received) which did not showed up?!\n",
    "`(the relationship between each column and the  no show up status)`\n",
    ">\n",
    "\n",
    "> 5. For each showed up status, what is average period between the appointment and the schedule day?!\n",
    ">\n",
    "\n",
    "> 6. What factors are important for us to know in order to predict if a patient will show up for their scheduled appointment? `(The majority features combination which did not show up)`"
   ]
  },
  {
   "cell_type": "markdown",
   "metadata": {
    "collapsed": true
   },
   "source": [
    "### Research Question 1:\n",
    "### What is the percentage of no show up to show up?!"
   ]
  },
  {
   "cell_type": "code",
   "execution_count": 26,
   "metadata": {},
   "outputs": [
    {
     "name": "stdout",
     "output_type": "stream",
     "text": [
      "The % of show, no show\n",
      "\n",
      "No     0.798924\n",
      "Yes    0.201076\n",
      "Name: No_show, dtype: float64\n",
      "==================================================\n",
      "\n"
     ]
    },
    {
     "data": {
      "image/png": "[encoded data removed]",
      "text/plain": [
       "<Figure size 432x288 with 1 Axes>"
      ]
     },
     "metadata": {},
     "output_type": "display_data"
    }
   ],
   "source": [
    "# plot the show, no show percent\n",
    "plot_df_percent(df, ['No_show'], messege = 'The % of show, no show')"
   ]
  },
  {
   "cell_type": "markdown",
   "metadata": {},
   "source": [
    "### Conclusion:\n",
    "> 1. about `20%` of the data did not show up.\n",
    ">\n",
    "> 2. about `80%` of the data showed up.\n",
    "\n",
    "as we see, 20 % of our patientst did not show up. We will discover the reasons behind this with the followiing questions."
   ]
  },
  {
   "cell_type": "markdown",
   "metadata": {
    "collapsed": true
   },
   "source": [
    "### Research Question 2:\n",
    "### What is the Value counts for each categorical column?!"
   ]
  },
  {
   "cell_type": "code",
   "execution_count": 27,
   "metadata": {},
   "outputs": [],
   "source": [
    "# Create a list of categorical columns\n",
    "cat_columns = [col_name for col_name in df.columns if df[col_name].dtype == 'object']\n",
    "\n",
    "# Remove the Neighbourhood column from this list\n",
    "cat_columns.remove('Neighbourhood')"
   ]
  },
  {
   "cell_type": "code",
   "execution_count": 28,
   "metadata": {},
   "outputs": [],
   "source": [
    "# # plot the value counts for the categorical columns    \n",
    "# plot_df(df, cat_columns, messege= 'The value counts for the categorical columns')"
   ]
  },
  {
   "cell_type": "code",
   "execution_count": 29,
   "metadata": {},
   "outputs": [
    {
     "name": "stdout",
     "output_type": "stream",
     "text": [
      "The % of each value in the categorical columns\n",
      "\n",
      "F    0.650057\n",
      "M    0.349943\n",
      "Name: Gender, dtype: float64\n",
      "==================================================\n",
      "\n"
     ]
    },
    {
     "data": {
      "image/png": "[encoded data removed]",
      "text/plain": [
       "<Figure size 432x288 with 1 Axes>"
      ]
     },
     "metadata": {},
     "output_type": "display_data"
    },
    {
     "name": "stdout",
     "output_type": "stream",
     "text": [
      "No     0.9017\n",
      "Yes    0.0983\n",
      "Name: Scholarship, dtype: float64\n",
      "==================================================\n",
      "\n"
     ]
    },
    {
     "data": {
      "image/png": "[encoded data removed]",
      "text/plain": [
       "<Figure size 432x288 with 1 Axes>"
      ]
     },
     "metadata": {},
     "output_type": "display_data"
    },
    {
     "name": "stdout",
     "output_type": "stream",
     "text": [
      "No     0.803172\n",
      "Yes    0.196828\n",
      "Name: Hipertension, dtype: float64\n",
      "==================================================\n",
      "\n"
     ]
    },
    {
     "data": {
      "image/png": "[encoded data removed]",
      "text/plain": [
       "<Figure size 432x288 with 1 Axes>"
      ]
     },
     "metadata": {},
     "output_type": "display_data"
    },
    {
     "name": "stdout",
     "output_type": "stream",
     "text": [
      "No     0.928438\n",
      "Yes    0.071562\n",
      "Name: Diabetes, dtype: float64\n",
      "==================================================\n",
      "\n"
     ]
    },
    {
     "data": {
      "image/png": "[encoded data removed]",
      "text/plain": [
       "<Figure size 432x288 with 1 Axes>"
      ]
     },
     "metadata": {},
     "output_type": "display_data"
    },
    {
     "name": "stdout",
     "output_type": "stream",
     "text": [
      "No     0.96957\n",
      "Yes    0.03043\n",
      "Name: Alcoholism, dtype: float64\n",
      "==================================================\n",
      "\n"
     ]
    },
    {
     "data": {
      "image/png": "[encoded data removed]",
      "text/plain": [
       "<Figure size 432x288 with 1 Axes>"
      ]
     },
     "metadata": {},
     "output_type": "display_data"
    },
    {
     "name": "stdout",
     "output_type": "stream",
     "text": [
      "No     0.981558\n",
      "Yes    0.018442\n",
      "Name: Handcap, dtype: float64\n",
      "==================================================\n",
      "\n"
     ]
    },
    {
     "data": {
      "image/png": "[encoded data removed]",
      "text/plain": [
       "<Figure size 432x288 with 1 Axes>"
      ]
     },
     "metadata": {},
     "output_type": "display_data"
    },
    {
     "name": "stdout",
     "output_type": "stream",
     "text": [
      "No     0.676968\n",
      "Yes    0.323032\n",
      "Name: SMS_received, dtype: float64\n",
      "==================================================\n",
      "\n"
     ]
    },
    {
     "data": {
      "image/png": "[encoded data removed]",
      "text/plain": [
       "<Figure size 432x288 with 1 Axes>"
      ]
     },
     "metadata": {},
     "output_type": "display_data"
    },
    {
     "name": "stdout",
     "output_type": "stream",
     "text": [
      "No     0.798924\n",
      "Yes    0.201076\n",
      "Name: No_show, dtype: float64\n",
      "==================================================\n",
      "\n"
     ]
    },
    {
     "data": {
      "image/png": "[encoded data removed]",
      "text/plain": [
       "<Figure size 432x288 with 1 Axes>"
      ]
     },
     "metadata": {},
     "output_type": "display_data"
    }
   ],
   "source": [
    "# Calculate the percentage of each value in the columns\n",
    "plot_df_percent(df, cat_columns, messege = 'The % of each value in the categorical columns')"
   ]
  },
  {
   "cell_type": "markdown",
   "metadata": {},
   "source": [
    "### Conclusion:\n",
    "> 1. about `65%` of the patients are females.\n",
    ">\n",
    "> 2. about `90%` of the patients has no scholarship.\n",
    ">\n",
    "> 3. about `80%` of the patients has no hipertension.\n",
    ">\n",
    "> 4. about `92%` of the patients has no diabetes.\n",
    ">\n",
    "> 5. about `96%` of the patients has no alcoholism.\n",
    "> \n",
    "> 6. about `98%` of the patients has no handcap.\n",
    ">\n",
    "> 7. about `67%` of the patients did not receive an SMS.\n",
    "> \n",
    "> 8. about `20%` of the patients did not show up.\n",
    "\n",
    "AS we see, the majority of the patients are females, did not recieve SMS, and has no cronic diseases."
   ]
  },
  {
   "cell_type": "markdown",
   "metadata": {},
   "source": [
    "### Research Question 3:\n",
    "### What is the distribution of numerical columns?!"
   ]
  },
  {
   "cell_type": "code",
   "execution_count": 30,
   "metadata": {},
   "outputs": [],
   "source": [
    "# !pip uninstall jedi --yes"
   ]
  },
  {
   "cell_type": "code",
   "execution_count": 31,
   "metadata": {},
   "outputs": [
    {
     "data": {
      "image/png": "[encoded data removed]",
      "text/plain": [
       "<Figure size 432x288 with 1 Axes>"
      ]
     },
     "metadata": {},
     "output_type": "display_data"
    }
   ],
   "source": [
    "# we have only one numerical column which is 'Age'\n",
    "# so We will plot it's distribution\n",
    "df['Age'].plot(kind='hist', bins=14, title='Age Distribution');"
   ]
  },
  {
   "cell_type": "markdown",
   "metadata": {},
   "source": [
    "### Conclusion:\n",
    "> As we see, we have a right skewed data. This means that the majority are young people."
   ]
  },
  {
   "cell_type": "markdown",
   "metadata": {},
   "source": [
    "### Research Question 4:\n",
    "### The relationship between each column and the no show up status)"
   ]
  },
  {
   "cell_type": "code",
   "execution_count": 32,
   "metadata": {},
   "outputs": [],
   "source": [
    "# Create a list of the data frame columnd\n",
    "columns = list(df.columns)"
   ]
  },
  {
   "cell_type": "code",
   "execution_count": 33,
   "metadata": {},
   "outputs": [],
   "source": [
    "# Remove the unrequired columns\n",
    "columns.remove('ScheduledDay')\n",
    "columns.remove('AppointmentDay')\n",
    "columns.remove('Age')\n",
    "columns.remove('Neighbourhood')\n",
    "columns.remove('No_show')"
   ]
  },
  {
   "cell_type": "code",
   "execution_count": 34,
   "metadata": {},
   "outputs": [
    {
     "data": {
      "text/plain": [
       "22057"
      ]
     },
     "execution_count": 34,
     "metadata": {},
     "output_type": "execute_result"
    }
   ],
   "source": [
    "# Calculate the total number of no show up\n",
    "total_no_show = df.query('No_show == \"Yes\"').shape[0]\n",
    "total_no_show"
   ]
  },
  {
   "cell_type": "code",
   "execution_count": 35,
   "metadata": {},
   "outputs": [
    {
     "name": "stdout",
     "output_type": "stream",
     "text": [
      "The % of columns which did not show up:\n",
      "\n",
      "F    0.654169\n",
      "M    0.345831\n",
      "Name: Gender, dtype: float64\n",
      "==================================================\n",
      "\n"
     ]
    },
    {
     "data": {
      "image/png": "[encoded data removed]",
      "text/plain": [
       "<Figure size 432x288 with 1 Axes>"
      ]
     },
     "metadata": {},
     "output_type": "display_data"
    },
    {
     "name": "stdout",
     "output_type": "stream",
     "text": [
      "No     0.884164\n",
      "Yes    0.115836\n",
      "Name: Scholarship, dtype: float64\n",
      "==================================================\n",
      "\n"
     ]
    },
    {
     "data": {
      "image/png": "[encoded data removed]",
      "text/plain": [
       "<Figure size 432x288 with 1 Axes>"
      ]
     },
     "metadata": {},
     "output_type": "display_data"
    },
    {
     "name": "stdout",
     "output_type": "stream",
     "text": [
      "No     0.832071\n",
      "Yes    0.167929\n",
      "Name: Hipertension, dtype: float64\n",
      "==================================================\n",
      "\n"
     ]
    },
    {
     "data": {
      "image/png": "[encoded data removed]",
      "text/plain": [
       "<Figure size 432x288 with 1 Axes>"
      ]
     },
     "metadata": {},
     "output_type": "display_data"
    },
    {
     "name": "stdout",
     "output_type": "stream",
     "text": [
      "No     0.935893\n",
      "Yes    0.064107\n",
      "Name: Diabetes, dtype: float64\n",
      "==================================================\n",
      "\n"
     ]
    },
    {
     "data": {
      "image/png": "[encoded data removed]",
      "text/plain": [
       "<Figure size 432x288 with 1 Axes>"
      ]
     },
     "metadata": {},
     "output_type": "display_data"
    },
    {
     "name": "stdout",
     "output_type": "stream",
     "text": [
      "No     0.969806\n",
      "Yes    0.030194\n",
      "Name: Alcoholism, dtype: float64\n",
      "==================================================\n",
      "\n"
     ]
    },
    {
     "data": {
      "image/png": "[encoded data removed]",
      "text/plain": [
       "<Figure size 432x288 with 1 Axes>"
      ]
     },
     "metadata": {},
     "output_type": "display_data"
    },
    {
     "name": "stdout",
     "output_type": "stream",
     "text": [
      "No     0.983769\n",
      "Yes    0.016231\n",
      "Name: Handcap, dtype: float64\n",
      "==================================================\n",
      "\n"
     ]
    },
    {
     "data": {
      "image/png": "[encoded data removed]",
      "text/plain": [
       "<Figure size 432x288 with 1 Axes>"
      ]
     },
     "metadata": {},
     "output_type": "display_data"
    },
    {
     "name": "stdout",
     "output_type": "stream",
     "text": [
      "No     0.55683\n",
      "Yes    0.44317\n",
      "Name: SMS_received, dtype: float64\n",
      "==================================================\n",
      "\n"
     ]
    },
    {
     "data": {
      "image/png": "[encoded data removed]",
      "text/plain": [
       "<Figure size 432x288 with 1 Axes>"
      ]
     },
     "metadata": {},
     "output_type": "display_data"
    }
   ],
   "source": [
    "# print the % of each column which did not show up \n",
    "plot_df_percent(df, columns, n = total_no_show,\n",
    "                query='No_show == \"Yes\"',\n",
    "                messege='The % of columns which did not show up:')"
   ]
  },
  {
   "cell_type": "markdown",
   "metadata": {},
   "source": [
    "### Conclusion:\n",
    "> 1. about `65%` of no show up are `females`.\n",
    ">\n",
    "> 2. about `34%` of no show up are `males`.\n",
    ">\n",
    "> 3. about `88%` of no show up has `no scholarship`.\n",
    ">\n",
    "> 4. about `11%` of no show up has `scholarship`.\n",
    ">\n",
    "> 5. about `83%` of no show up has `no hipertension`.\n",
    ">\n",
    "> 6. about `16%` of no show up has `hipertension`.\n",
    ">\n",
    "> 7. about `93%` of no show up has `no diabetes`.\n",
    ">\n",
    "> 8. about `6%` of no show up has `diabetes`.\n",
    ">\n",
    "> 9. about `96%` of no show up has `no alcoholism`.\n",
    ">\n",
    "> 10. about `3%` of no show up has `alcoholism`.\n",
    ">\n",
    "> 11. about `98%` of no show up has `no handcap`.\n",
    ">\n",
    "> 12. about `1%` of no show up has `handcap`.\n",
    ">\n",
    "> 13. about `55%` of no show `did not receive SMS`.\n",
    ">\n",
    "> 14. about `44%` of no show `received SMS`.\n",
    "\n",
    "### we can deduce that not showing up depends the most on these parameters:\n",
    "\n",
    "The patients has no handcap, no alcoholism, no diabetes, and no scholarship and they are females.\n",
    "\n",
    "`so we can say that the patients who has no cronic disease did not show up.`\n",
    "\n"
   ]
  },
  {
   "cell_type": "markdown",
   "metadata": {},
   "source": [
    "### Research Question 5:\n",
    "### For each showed up status, what is average period between the appointment and the schedule day?!\n",
    "\n"
   ]
  },
  {
   "cell_type": "code",
   "execution_count": 36,
   "metadata": {},
   "outputs": [],
   "source": [
    "# Create a column for the difference between the schedule and the appointment day\n",
    "df['date_diff'] = df['AppointmentDay'] - df['ScheduledDay']"
   ]
  },
  {
   "cell_type": "code",
   "execution_count": 37,
   "metadata": {},
   "outputs": [
    {
     "data": {
      "text/plain": [
       "Timedelta('15 days 07:47:57.308518838')"
      ]
     },
     "execution_count": 37,
     "metadata": {},
     "output_type": "execute_result"
    }
   ],
   "source": [
    "# Calculate the mean interval for no show up\n",
    "df.query('No_show == \"Yes\"')['date_diff'].mean()"
   ]
  },
  {
   "cell_type": "code",
   "execution_count": 38,
   "metadata": {},
   "outputs": [
    {
     "data": {
      "text/plain": [
       "Timedelta('8 days 06:34:28.281590182')"
      ]
     },
     "execution_count": 38,
     "metadata": {},
     "output_type": "execute_result"
    }
   ],
   "source": [
    "# Calculate the mean interval for showing up\n",
    "df.query('No_show == \"No\"')['date_diff'].mean()"
   ]
  },
  {
   "cell_type": "markdown",
   "metadata": {},
   "source": [
    "### Conclusion:\n",
    "> As we see, the majority did not show up because the average time interval between the schedule day and the appointment day is large about `15 days`.\n",
    "\n",
    "> This is unlike the average time interval of the people who showed up, which about about `8 days`"
   ]
  },
  {
   "cell_type": "markdown",
   "metadata": {},
   "source": [
    "### Research Question 6:\n",
    "### The majority features combination which did not show up\n",
    "\n"
   ]
  },
  {
   "cell_type": "code",
   "execution_count": 39,
   "metadata": {},
   "outputs": [],
   "source": [
    "# Create a data frame of no show up\n",
    "no_show_df = df.query('No_show == \"Yes\"')"
   ]
  },
  {
   "cell_type": "code",
   "execution_count": 40,
   "metadata": {},
   "outputs": [
    {
     "data": {
      "text/plain": [
       "6         False\n",
       "7          True\n",
       "11        False\n",
       "17        False\n",
       "20         True\n",
       "          ...  \n",
       "110484     True\n",
       "110492     True\n",
       "110496     True\n",
       "110515     True\n",
       "110516     True\n",
       "Length: 22057, dtype: bool"
      ]
     },
     "execution_count": 40,
     "metadata": {},
     "output_type": "execute_result"
    }
   ],
   "source": [
    "# Find the index of these features combination which related to no show up\n",
    "no_show_df[['Hipertension', 'Diabetes', 'Alcoholism', 'Handcap', \n",
    "            'SMS_received', 'Scholarship']].duplicated()"
   ]
  },
  {
   "cell_type": "code",
   "execution_count": 41,
   "metadata": {},
   "outputs": [
    {
     "data": {
      "text/plain": [
       "22006"
      ]
     },
     "execution_count": 41,
     "metadata": {},
     "output_type": "execute_result"
    }
   ],
   "source": [
    "# Find the count of these records\n",
    "no_show_df.duplicated(subset = ['Hipertension', 'Diabetes', 'Alcoholism', 'Handcap', \n",
    "                                'SMS_received', 'Scholarship']).sum()"
   ]
  },
  {
   "cell_type": "code",
   "execution_count": 42,
   "metadata": {},
   "outputs": [
    {
     "data": {
      "text/plain": [
       "0.9976878088588657"
      ]
     },
     "execution_count": 42,
     "metadata": {},
     "output_type": "execute_result"
    }
   ],
   "source": [
    "# Calculate the % of these records\n",
    "no_show_df.duplicated(subset = ['Hipertension', 'Diabetes', 'Alcoholism', 'Handcap', \n",
    "                                'SMS_received', 'Scholarship'])\\\n",
    "                                            .sum() / no_show_df.shape[0]"
   ]
  },
  {
   "cell_type": "code",
   "execution_count": 43,
   "metadata": {},
   "outputs": [
    {
     "data": {
      "text/plain": [
       "Gender                                    F\n",
       "ScheduledDay      2016-04-27 15:39:58+00:00\n",
       "AppointmentDay    2016-04-29 00:00:00+00:00\n",
       "Age                                      39\n",
       "Neighbourhood                    GOIABEIRAS\n",
       "Scholarship                              No\n",
       "Hipertension                             No\n",
       "Diabetes                                 No\n",
       "Alcoholism                               No\n",
       "Handcap                                  No\n",
       "SMS_received                             No\n",
       "No_show                                 Yes\n",
       "date_diff                   1 days 08:20:02\n",
       "Name: 7, dtype: object"
      ]
     },
     "metadata": {},
     "output_type": "display_data"
    }
   ],
   "source": [
    "# Discover the values of one of these records\n",
    "display(df.iloc[7])"
   ]
  },
  {
   "cell_type": "markdown",
   "metadata": {},
   "source": [
    "### Conclusion:\n",
    "AS we see, the majority which did not show up has:\n",
    "> 1. no Hipertension\n",
    "> \n",
    "> 2. no Diabetes\n",
    "> \n",
    "> 3. no Alcoholism\n",
    "> \n",
    "> 4. no Handcap\n",
    ">\n",
    "> 5. no SMS_received\n",
    ">\n",
    "> 6. no Scholarship\n",
    "\n",
    "These parameters affects the most on the showing up status."
   ]
  },
  {
   "cell_type": "markdown",
   "metadata": {},
   "source": [
    "### Limitations in the data:\n",
    "> 1. The dataset is small.\n",
    ">\n",
    "> 2. The majority of patients have no diseases.\n",
    ">\n",
    "> 3. The data has class imbalance `only 20% did not show up and the rest showed up.`\n",
    ">\n",
    "> 4. The data is skewed tward young patients."
   ]
  },
  {
   "cell_type": "markdown",
   "metadata": {},
   "source": [
    "<font color = Yellow> END </font>"
   ]
  }
 ],
 "metadata": {
  "kernelspec": {
   "display_name": "Python 3",
   "language": "python",
   "name": "python3"
  },
  "language_info": {
   "codemirror_mode": {
    "name": "ipython",
    "version": 3
   },
   "file_extension": ".py",
   "mimetype": "text/x-python",
   "name": "python",
   "nbconvert_exporter": "python",
   "pygments_lexer": "ipython3",
   "version": "3.8.5"
  }
 },
 "nbformat": 4,
 "nbformat_minor": 2
}
